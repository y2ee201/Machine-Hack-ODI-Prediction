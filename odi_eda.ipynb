{
 "cells": [
  {
   "cell_type": "code",
   "execution_count": 109,
   "metadata": {},
   "outputs": [],
   "source": [
    "import pandas as pd\n",
    "import numpy as np\n",
    "import matplotlib.pyplot as plt\n",
    "import seaborn as sns"
   ]
  },
  {
   "cell_type": "code",
   "execution_count": 110,
   "metadata": {},
   "outputs": [
    {
     "name": "stdout",
     "output_type": "stream",
     "text": [
      "<class 'pandas.core.frame.DataFrame'>\n",
      "RangeIndex: 2508 entries, 0 to 2507\n",
      "Data columns (total 12 columns):\n",
      " #   Column         Non-Null Count  Dtype \n",
      "---  ------         --------------  ----- \n",
      " 0   Team1          2508 non-null   int64 \n",
      " 1   Team2          2508 non-null   int64 \n",
      " 2   Stadium        2508 non-null   int64 \n",
      " 3   HostCountry    2508 non-null   int64 \n",
      " 4   Team1_Venue    2508 non-null   object\n",
      " 5   Team2_Venue    2508 non-null   object\n",
      " 6   Team1_Innings  2508 non-null   object\n",
      " 7   Team2_Innings  2508 non-null   object\n",
      " 8   MonthOfMatch   2508 non-null   object\n",
      " 9   MatchWinner    2508 non-null   int64 \n",
      " 10  Team1_win      2508 non-null   int64 \n",
      " 11  Team2_win      2508 non-null   int64 \n",
      "dtypes: int64(7), object(5)\n",
      "memory usage: 235.2+ KB\n"
     ]
    }
   ],
   "source": [
    "train_df = pd.read_csv('./Train.csv')\n",
    "train_df['Team1_win']=np.where(train_df.Team1==train_df.MatchWinner, 1, 0)\n",
    "train_df['Team2_win']=np.where(train_df.Team2==train_df.MatchWinner, 1, 0)\n",
    "train_df.info()"
   ]
  },
  {
   "cell_type": "code",
   "execution_count": 111,
   "metadata": {},
   "outputs": [
    {
     "data": {
      "text/html": [
       "<div>\n",
       "<style scoped>\n",
       "    .dataframe tbody tr th:only-of-type {\n",
       "        vertical-align: middle;\n",
       "    }\n",
       "\n",
       "    .dataframe tbody tr th {\n",
       "        vertical-align: top;\n",
       "    }\n",
       "\n",
       "    .dataframe thead th {\n",
       "        text-align: right;\n",
       "    }\n",
       "</style>\n",
       "<table border=\"1\" class=\"dataframe\">\n",
       "  <thead>\n",
       "    <tr style=\"text-align: right;\">\n",
       "      <th></th>\n",
       "      <th>Team1</th>\n",
       "      <th>Team2</th>\n",
       "      <th>Stadium</th>\n",
       "      <th>HostCountry</th>\n",
       "      <th>Team1_Venue</th>\n",
       "      <th>Team2_Venue</th>\n",
       "      <th>Team1_Innings</th>\n",
       "      <th>Team2_Innings</th>\n",
       "      <th>MonthOfMatch</th>\n",
       "      <th>MatchWinner</th>\n",
       "      <th>Team1_win</th>\n",
       "      <th>Team2_win</th>\n",
       "    </tr>\n",
       "  </thead>\n",
       "  <tbody>\n",
       "    <tr>\n",
       "      <th>0</th>\n",
       "      <td>5</td>\n",
       "      <td>4</td>\n",
       "      <td>37</td>\n",
       "      <td>4</td>\n",
       "      <td>Home</td>\n",
       "      <td>Away</td>\n",
       "      <td>Second</td>\n",
       "      <td>First</td>\n",
       "      <td>Dec</td>\n",
       "      <td>4</td>\n",
       "      <td>0</td>\n",
       "      <td>1</td>\n",
       "    </tr>\n",
       "    <tr>\n",
       "      <th>1</th>\n",
       "      <td>1</td>\n",
       "      <td>14</td>\n",
       "      <td>84</td>\n",
       "      <td>7</td>\n",
       "      <td>Neutral</td>\n",
       "      <td>Neutral</td>\n",
       "      <td>First</td>\n",
       "      <td>Second</td>\n",
       "      <td>Sep</td>\n",
       "      <td>1</td>\n",
       "      <td>1</td>\n",
       "      <td>0</td>\n",
       "    </tr>\n",
       "    <tr>\n",
       "      <th>2</th>\n",
       "      <td>9</td>\n",
       "      <td>15</td>\n",
       "      <td>47</td>\n",
       "      <td>9</td>\n",
       "      <td>Home</td>\n",
       "      <td>Away</td>\n",
       "      <td>First</td>\n",
       "      <td>Second</td>\n",
       "      <td>Feb</td>\n",
       "      <td>9</td>\n",
       "      <td>1</td>\n",
       "      <td>0</td>\n",
       "    </tr>\n",
       "    <tr>\n",
       "      <th>3</th>\n",
       "      <td>7</td>\n",
       "      <td>2</td>\n",
       "      <td>102</td>\n",
       "      <td>6</td>\n",
       "      <td>Home</td>\n",
       "      <td>Away</td>\n",
       "      <td>First</td>\n",
       "      <td>Second</td>\n",
       "      <td>Aug</td>\n",
       "      <td>2</td>\n",
       "      <td>0</td>\n",
       "      <td>1</td>\n",
       "    </tr>\n",
       "    <tr>\n",
       "      <th>4</th>\n",
       "      <td>6</td>\n",
       "      <td>8</td>\n",
       "      <td>46</td>\n",
       "      <td>5</td>\n",
       "      <td>Home</td>\n",
       "      <td>Away</td>\n",
       "      <td>First</td>\n",
       "      <td>Second</td>\n",
       "      <td>Aug</td>\n",
       "      <td>6</td>\n",
       "      <td>1</td>\n",
       "      <td>0</td>\n",
       "    </tr>\n",
       "  </tbody>\n",
       "</table>\n",
       "</div>"
      ],
      "text/plain": [
       "   Team1  Team2  Stadium  HostCountry Team1_Venue Team2_Venue Team1_Innings  \\\n",
       "0      5      4       37            4        Home        Away        Second   \n",
       "1      1     14       84            7     Neutral     Neutral         First   \n",
       "2      9     15       47            9        Home        Away         First   \n",
       "3      7      2      102            6        Home        Away         First   \n",
       "4      6      8       46            5        Home        Away         First   \n",
       "\n",
       "  Team2_Innings MonthOfMatch  MatchWinner  Team1_win  Team2_win  \n",
       "0         First          Dec            4          0          1  \n",
       "1        Second          Sep            1          1          0  \n",
       "2        Second          Feb            9          1          0  \n",
       "3        Second          Aug            2          0          1  \n",
       "4        Second          Aug            6          1          0  "
      ]
     },
     "execution_count": 111,
     "metadata": {},
     "output_type": "execute_result"
    }
   ],
   "source": [
    "train_df.head()"
   ]
  },
  {
   "cell_type": "code",
   "execution_count": 112,
   "metadata": {},
   "outputs": [],
   "source": [
    "# train_df[((train_df.Team1==5) & (train_df.Team2==4)) | ((train_df.Team1==4) & (train_df.Team2==5))]"
   ]
  },
  {
   "cell_type": "code",
   "execution_count": 113,
   "metadata": {},
   "outputs": [
    {
     "data": {
      "text/html": [
       "<div>\n",
       "<style scoped>\n",
       "    .dataframe tbody tr th:only-of-type {\n",
       "        vertical-align: middle;\n",
       "    }\n",
       "\n",
       "    .dataframe tbody tr th {\n",
       "        vertical-align: top;\n",
       "    }\n",
       "\n",
       "    .dataframe thead th {\n",
       "        text-align: right;\n",
       "    }\n",
       "</style>\n",
       "<table border=\"1\" class=\"dataframe\">\n",
       "  <thead>\n",
       "    <tr style=\"text-align: right;\">\n",
       "      <th></th>\n",
       "      <th>Team</th>\n",
       "      <th>wins</th>\n",
       "      <th>matches</th>\n",
       "      <th>win_rate</th>\n",
       "    </tr>\n",
       "  </thead>\n",
       "  <tbody>\n",
       "    <tr>\n",
       "      <th>0</th>\n",
       "      <td>0</td>\n",
       "      <td>27</td>\n",
       "      <td>56</td>\n",
       "      <td>0.482143</td>\n",
       "    </tr>\n",
       "    <tr>\n",
       "      <th>1</th>\n",
       "      <td>1</td>\n",
       "      <td>379</td>\n",
       "      <td>590</td>\n",
       "      <td>0.642373</td>\n",
       "    </tr>\n",
       "    <tr>\n",
       "      <th>2</th>\n",
       "      <td>2</td>\n",
       "      <td>70</td>\n",
       "      <td>225</td>\n",
       "      <td>0.311111</td>\n",
       "    </tr>\n",
       "    <tr>\n",
       "      <th>3</th>\n",
       "      <td>3</td>\n",
       "      <td>8</td>\n",
       "      <td>49</td>\n",
       "      <td>0.163265</td>\n",
       "    </tr>\n",
       "    <tr>\n",
       "      <th>4</th>\n",
       "      <td>4</td>\n",
       "      <td>237</td>\n",
       "      <td>452</td>\n",
       "      <td>0.524336</td>\n",
       "    </tr>\n",
       "    <tr>\n",
       "      <th>5</th>\n",
       "      <td>5</td>\n",
       "      <td>318</td>\n",
       "      <td>602</td>\n",
       "      <td>0.528239</td>\n",
       "    </tr>\n",
       "    <tr>\n",
       "      <th>6</th>\n",
       "      <td>6</td>\n",
       "      <td>33</td>\n",
       "      <td>76</td>\n",
       "      <td>0.434211</td>\n",
       "    </tr>\n",
       "    <tr>\n",
       "      <th>7</th>\n",
       "      <td>7</td>\n",
       "      <td>24</td>\n",
       "      <td>98</td>\n",
       "      <td>0.244898</td>\n",
       "    </tr>\n",
       "    <tr>\n",
       "      <th>8</th>\n",
       "      <td>8</td>\n",
       "      <td>15</td>\n",
       "      <td>45</td>\n",
       "      <td>0.333333</td>\n",
       "    </tr>\n",
       "    <tr>\n",
       "      <th>9</th>\n",
       "      <td>9</td>\n",
       "      <td>223</td>\n",
       "      <td>476</td>\n",
       "      <td>0.468487</td>\n",
       "    </tr>\n",
       "    <tr>\n",
       "      <th>10</th>\n",
       "      <td>10</td>\n",
       "      <td>316</td>\n",
       "      <td>566</td>\n",
       "      <td>0.558304</td>\n",
       "    </tr>\n",
       "    <tr>\n",
       "      <th>11</th>\n",
       "      <td>11</td>\n",
       "      <td>18</td>\n",
       "      <td>52</td>\n",
       "      <td>0.346154</td>\n",
       "    </tr>\n",
       "    <tr>\n",
       "      <th>12</th>\n",
       "      <td>12</td>\n",
       "      <td>245</td>\n",
       "      <td>384</td>\n",
       "      <td>0.638021</td>\n",
       "    </tr>\n",
       "    <tr>\n",
       "      <th>13</th>\n",
       "      <td>13</td>\n",
       "      <td>246</td>\n",
       "      <td>517</td>\n",
       "      <td>0.475822</td>\n",
       "    </tr>\n",
       "    <tr>\n",
       "      <th>14</th>\n",
       "      <td>14</td>\n",
       "      <td>262</td>\n",
       "      <td>506</td>\n",
       "      <td>0.517787</td>\n",
       "    </tr>\n",
       "    <tr>\n",
       "      <th>15</th>\n",
       "      <td>15</td>\n",
       "      <td>87</td>\n",
       "      <td>322</td>\n",
       "      <td>0.270186</td>\n",
       "    </tr>\n",
       "  </tbody>\n",
       "</table>\n",
       "</div>"
      ],
      "text/plain": [
       "    Team  wins  matches  win_rate\n",
       "0      0    27       56  0.482143\n",
       "1      1   379      590  0.642373\n",
       "2      2    70      225  0.311111\n",
       "3      3     8       49  0.163265\n",
       "4      4   237      452  0.524336\n",
       "5      5   318      602  0.528239\n",
       "6      6    33       76  0.434211\n",
       "7      7    24       98  0.244898\n",
       "8      8    15       45  0.333333\n",
       "9      9   223      476  0.468487\n",
       "10    10   316      566  0.558304\n",
       "11    11    18       52  0.346154\n",
       "12    12   245      384  0.638021\n",
       "13    13   246      517  0.475822\n",
       "14    14   262      506  0.517787\n",
       "15    15    87      322  0.270186"
      ]
     },
     "execution_count": 113,
     "metadata": {},
     "output_type": "execute_result"
    }
   ],
   "source": [
    "team1_wins = train_df.groupby(['Team1']).agg({'Team1_win':['sum','count']}).reset_index()\n",
    "team1_wins.columns = ['Team','wins','matches']\n",
    "team2_wins = train_df.groupby(['Team2']).agg({'Team2_win':['sum','count']}).reset_index()\n",
    "team2_wins.columns = ['Team','wins','matches']\n",
    "team_winrate = team1_wins.merge(team2_wins, on = ['Team'])\n",
    "team_winrate['wins'] = team_winrate['wins_x'] + team_winrate['wins_y']\n",
    "team_winrate['matches'] = team_winrate['matches_x'] + team_winrate['matches_y']\n",
    "team_winrate['win_rate'] = team_winrate['wins']/team_winrate['matches']\n",
    "team_winrate = team_winrate[['Team','wins','matches','win_rate']]\n",
    "team_winrate"
   ]
  },
  {
   "cell_type": "code",
   "execution_count": 114,
   "metadata": {},
   "outputs": [
    {
     "data": {
      "text/html": [
       "<div>\n",
       "<style scoped>\n",
       "    .dataframe tbody tr th:only-of-type {\n",
       "        vertical-align: middle;\n",
       "    }\n",
       "\n",
       "    .dataframe tbody tr th {\n",
       "        vertical-align: top;\n",
       "    }\n",
       "\n",
       "    .dataframe thead th {\n",
       "        text-align: right;\n",
       "    }\n",
       "</style>\n",
       "<table border=\"1\" class=\"dataframe\">\n",
       "  <thead>\n",
       "    <tr style=\"text-align: right;\">\n",
       "      <th></th>\n",
       "      <th>Team1</th>\n",
       "      <th>Team2</th>\n",
       "      <th>Team1_win</th>\n",
       "    </tr>\n",
       "  </thead>\n",
       "  <tbody>\n",
       "    <tr>\n",
       "      <th>0</th>\n",
       "      <td>5</td>\n",
       "      <td>4</td>\n",
       "      <td>0</td>\n",
       "    </tr>\n",
       "    <tr>\n",
       "      <th>1</th>\n",
       "      <td>1</td>\n",
       "      <td>14</td>\n",
       "      <td>1</td>\n",
       "    </tr>\n",
       "    <tr>\n",
       "      <th>2</th>\n",
       "      <td>9</td>\n",
       "      <td>15</td>\n",
       "      <td>1</td>\n",
       "    </tr>\n",
       "    <tr>\n",
       "      <th>3</th>\n",
       "      <td>7</td>\n",
       "      <td>2</td>\n",
       "      <td>0</td>\n",
       "    </tr>\n",
       "    <tr>\n",
       "      <th>4</th>\n",
       "      <td>6</td>\n",
       "      <td>8</td>\n",
       "      <td>1</td>\n",
       "    </tr>\n",
       "    <tr>\n",
       "      <th>...</th>\n",
       "      <td>...</td>\n",
       "      <td>...</td>\n",
       "      <td>...</td>\n",
       "    </tr>\n",
       "    <tr>\n",
       "      <th>2503</th>\n",
       "      <td>5</td>\n",
       "      <td>15</td>\n",
       "      <td>1</td>\n",
       "    </tr>\n",
       "    <tr>\n",
       "      <th>2504</th>\n",
       "      <td>1</td>\n",
       "      <td>14</td>\n",
       "      <td>1</td>\n",
       "    </tr>\n",
       "    <tr>\n",
       "      <th>2505</th>\n",
       "      <td>14</td>\n",
       "      <td>5</td>\n",
       "      <td>1</td>\n",
       "    </tr>\n",
       "    <tr>\n",
       "      <th>2506</th>\n",
       "      <td>15</td>\n",
       "      <td>14</td>\n",
       "      <td>0</td>\n",
       "    </tr>\n",
       "    <tr>\n",
       "      <th>2507</th>\n",
       "      <td>1</td>\n",
       "      <td>10</td>\n",
       "      <td>1</td>\n",
       "    </tr>\n",
       "  </tbody>\n",
       "</table>\n",
       "<p>2508 rows × 3 columns</p>\n",
       "</div>"
      ],
      "text/plain": [
       "      Team1  Team2  Team1_win\n",
       "0         5      4          0\n",
       "1         1     14          1\n",
       "2         9     15          1\n",
       "3         7      2          0\n",
       "4         6      8          1\n",
       "...     ...    ...        ...\n",
       "2503      5     15          1\n",
       "2504      1     14          1\n",
       "2505     14      5          1\n",
       "2506     15     14          0\n",
       "2507      1     10          1\n",
       "\n",
       "[2508 rows x 3 columns]"
      ]
     },
     "execution_count": 114,
     "metadata": {},
     "output_type": "execute_result"
    }
   ],
   "source": [
    "train_df[['Team1','Team2','Team1_win']]"
   ]
  },
  {
   "cell_type": "code",
   "execution_count": 115,
   "metadata": {},
   "outputs": [
    {
     "data": {
      "text/html": [
       "<div>\n",
       "<style scoped>\n",
       "    .dataframe tbody tr th:only-of-type {\n",
       "        vertical-align: middle;\n",
       "    }\n",
       "\n",
       "    .dataframe tbody tr th {\n",
       "        vertical-align: top;\n",
       "    }\n",
       "\n",
       "    .dataframe thead th {\n",
       "        text-align: right;\n",
       "    }\n",
       "</style>\n",
       "<table border=\"1\" class=\"dataframe\">\n",
       "  <thead>\n",
       "    <tr style=\"text-align: right;\">\n",
       "      <th></th>\n",
       "      <th>Team1</th>\n",
       "      <th>Team2</th>\n",
       "      <th>Team1_win</th>\n",
       "      <th>Team_x</th>\n",
       "      <th>wins_x</th>\n",
       "      <th>matches_x</th>\n",
       "      <th>win_rate_x</th>\n",
       "      <th>Team_y</th>\n",
       "      <th>wins_y</th>\n",
       "      <th>matches_y</th>\n",
       "      <th>win_rate_y</th>\n",
       "      <th>win_rate_diff</th>\n",
       "      <th>match_diff</th>\n",
       "    </tr>\n",
       "  </thead>\n",
       "  <tbody>\n",
       "    <tr>\n",
       "      <th>2503</th>\n",
       "      <td>11</td>\n",
       "      <td>0</td>\n",
       "      <td>0</td>\n",
       "      <td>11</td>\n",
       "      <td>18</td>\n",
       "      <td>52</td>\n",
       "      <td>0.346154</td>\n",
       "      <td>0</td>\n",
       "      <td>27</td>\n",
       "      <td>56</td>\n",
       "      <td>0.482143</td>\n",
       "      <td>-0.135989</td>\n",
       "      <td>-4</td>\n",
       "    </tr>\n",
       "    <tr>\n",
       "      <th>2504</th>\n",
       "      <td>11</td>\n",
       "      <td>0</td>\n",
       "      <td>1</td>\n",
       "      <td>11</td>\n",
       "      <td>18</td>\n",
       "      <td>52</td>\n",
       "      <td>0.346154</td>\n",
       "      <td>0</td>\n",
       "      <td>27</td>\n",
       "      <td>56</td>\n",
       "      <td>0.482143</td>\n",
       "      <td>-0.135989</td>\n",
       "      <td>-4</td>\n",
       "    </tr>\n",
       "    <tr>\n",
       "      <th>2505</th>\n",
       "      <td>8</td>\n",
       "      <td>0</td>\n",
       "      <td>0</td>\n",
       "      <td>8</td>\n",
       "      <td>15</td>\n",
       "      <td>45</td>\n",
       "      <td>0.333333</td>\n",
       "      <td>0</td>\n",
       "      <td>27</td>\n",
       "      <td>56</td>\n",
       "      <td>0.482143</td>\n",
       "      <td>-0.148810</td>\n",
       "      <td>-11</td>\n",
       "    </tr>\n",
       "    <tr>\n",
       "      <th>2506</th>\n",
       "      <td>8</td>\n",
       "      <td>0</td>\n",
       "      <td>0</td>\n",
       "      <td>8</td>\n",
       "      <td>15</td>\n",
       "      <td>45</td>\n",
       "      <td>0.333333</td>\n",
       "      <td>0</td>\n",
       "      <td>27</td>\n",
       "      <td>56</td>\n",
       "      <td>0.482143</td>\n",
       "      <td>-0.148810</td>\n",
       "      <td>-11</td>\n",
       "    </tr>\n",
       "    <tr>\n",
       "      <th>2507</th>\n",
       "      <td>8</td>\n",
       "      <td>0</td>\n",
       "      <td>0</td>\n",
       "      <td>8</td>\n",
       "      <td>15</td>\n",
       "      <td>45</td>\n",
       "      <td>0.333333</td>\n",
       "      <td>0</td>\n",
       "      <td>27</td>\n",
       "      <td>56</td>\n",
       "      <td>0.482143</td>\n",
       "      <td>-0.148810</td>\n",
       "      <td>-11</td>\n",
       "    </tr>\n",
       "  </tbody>\n",
       "</table>\n",
       "</div>"
      ],
      "text/plain": [
       "      Team1  Team2  Team1_win  Team_x  wins_x  matches_x  win_rate_x  Team_y  \\\n",
       "2503     11      0          0      11      18         52    0.346154       0   \n",
       "2504     11      0          1      11      18         52    0.346154       0   \n",
       "2505      8      0          0       8      15         45    0.333333       0   \n",
       "2506      8      0          0       8      15         45    0.333333       0   \n",
       "2507      8      0          0       8      15         45    0.333333       0   \n",
       "\n",
       "      wins_y  matches_y  win_rate_y  win_rate_diff  match_diff  \n",
       "2503      27         56    0.482143      -0.135989          -4  \n",
       "2504      27         56    0.482143      -0.135989          -4  \n",
       "2505      27         56    0.482143      -0.148810         -11  \n",
       "2506      27         56    0.482143      -0.148810         -11  \n",
       "2507      27         56    0.482143      -0.148810         -11  "
      ]
     },
     "execution_count": 115,
     "metadata": {},
     "output_type": "execute_result"
    }
   ],
   "source": [
    "win_impact = train_df[['Team1','Team2','Team1_win']].merge(team_winrate, left_on=['Team1'], right_on=['Team'])\n",
    "win_impact = win_impact.merge(team_winrate, left_on=['Team2'], right_on=['Team'])\n",
    "win_impact['win_rate_diff'] = win_impact['win_rate_x'] - win_impact['win_rate_y']\n",
    "win_impact['match_diff'] = win_impact['matches_x'] - win_impact['matches_y']\n",
    "assert win_impact.shape[0] == train_df.shape[0]\n",
    "win_impact.tail()"
   ]
  },
  {
   "cell_type": "code",
   "execution_count": 116,
   "metadata": {},
   "outputs": [
    {
     "data": {
      "text/plain": [
       "<matplotlib.axes._subplots.AxesSubplot at 0x1a2b907e10>"
      ]
     },
     "execution_count": 116,
     "metadata": {},
     "output_type": "execute_result"
    },
    {
     "data": {
      "image/png": "[encoded data removed]",
      "text/plain": [
       "<Figure size 432x288 with 1 Axes>"
      ]
     },
     "metadata": {
      "needs_background": "light"
     },
     "output_type": "display_data"
    }
   ],
   "source": [
    "sns.boxplot(data = win_impact, x = 'Team1_win', y = 'win_rate_x')"
   ]
  },
  {
   "cell_type": "code",
   "execution_count": 117,
   "metadata": {},
   "outputs": [
    {
     "data": {
      "text/plain": [
       "<matplotlib.axes._subplots.AxesSubplot at 0x1a2b8a6438>"
      ]
     },
     "execution_count": 117,
     "metadata": {},
     "output_type": "execute_result"
    },
    {
     "data": {
      "image/png": "[encoded data removed]",
      "text/plain": [
       "<Figure size 432x288 with 1 Axes>"
      ]
     },
     "metadata": {
      "needs_background": "light"
     },
     "output_type": "display_data"
    }
   ],
   "source": [
    "sns.boxplot(data = win_impact, x = 'Team1_win', y = 'win_rate_y')"
   ]
  },
  {
   "cell_type": "code",
   "execution_count": 118,
   "metadata": {},
   "outputs": [
    {
     "data": {
      "text/plain": [
       "<matplotlib.axes._subplots.AxesSubplot at 0x1a2b909c18>"
      ]
     },
     "execution_count": 118,
     "metadata": {},
     "output_type": "execute_result"
    },
    {
     "data": {
      "image/png": "[encoded data removed]",
      "text/plain": [
       "<Figure size 432x288 with 1 Axes>"
      ]
     },
     "metadata": {
      "needs_background": "light"
     },
     "output_type": "display_data"
    }
   ],
   "source": [
    "sns.boxplot(data = win_impact, x = 'Team1_win', y = 'win_rate_diff')"
   ]
  },
  {
   "cell_type": "code",
   "execution_count": 119,
   "metadata": {},
   "outputs": [
    {
     "data": {
      "text/plain": [
       "<matplotlib.axes._subplots.AxesSubplot at 0x1a2b963a20>"
      ]
     },
     "execution_count": 119,
     "metadata": {},
     "output_type": "execute_result"
    },
    {
     "data": {
      "image/png": "[encoded data removed]",
      "text/plain": [
       "<Figure size 432x288 with 1 Axes>"
      ]
     },
     "metadata": {
      "needs_background": "light"
     },
     "output_type": "display_data"
    }
   ],
   "source": [
    "sns.boxplot(data = win_impact, x = 'Team1_win', y = 'match_diff')"
   ]
  },
  {
   "cell_type": "code",
   "execution_count": 120,
   "metadata": {},
   "outputs": [
    {
     "data": {
      "text/plain": [
       "<matplotlib.axes._subplots.AxesSubplot at 0x1a2be70a90>"
      ]
     },
     "execution_count": 120,
     "metadata": {},
     "output_type": "execute_result"
    },
    {
     "data": {
      "image/png": "[encoded data removed]",
      "text/plain": [
       "<Figure size 432x288 with 1 Axes>"
      ]
     },
     "metadata": {
      "needs_background": "light"
     },
     "output_type": "display_data"
    }
   ],
   "source": [
    "sns.boxplot(data = win_impact, x = 'Team1_win', y = 'wins_y')"
   ]
  },
  {
   "cell_type": "code",
   "execution_count": 121,
   "metadata": {},
   "outputs": [
    {
     "data": {
      "text/plain": [
       "<matplotlib.axes._subplots.AxesSubplot at 0x1a2bf5cba8>"
      ]
     },
     "execution_count": 121,
     "metadata": {},
     "output_type": "execute_result"
    },
    {
     "data": {
      "image/png": "[encoded data removed]",
      "text/plain": [
       "<Figure size 432x288 with 1 Axes>"
      ]
     },
     "metadata": {
      "needs_background": "light"
     },
     "output_type": "display_data"
    }
   ],
   "source": [
    "sns.boxplot(data = win_impact, x = 'Team1_win', y = 'matches_y')"
   ]
  },
  {
   "cell_type": "code",
   "execution_count": 122,
   "metadata": {},
   "outputs": [
    {
     "data": {
      "text/plain": [
       "<matplotlib.axes._subplots.AxesSubplot at 0x1a2c0340f0>"
      ]
     },
     "execution_count": 122,
     "metadata": {},
     "output_type": "execute_result"
    },
    {
     "data": {
      "image/png": "[encoded data removed]",
      "text/plain": [
       "<Figure size 432x288 with 1 Axes>"
      ]
     },
     "metadata": {
      "needs_background": "light"
     },
     "output_type": "display_data"
    }
   ],
   "source": [
    "sns.boxplot(data = win_impact, x = 'Team1_win', y = 'win_rate_y')"
   ]
  },
  {
   "cell_type": "code",
   "execution_count": 123,
   "metadata": {},
   "outputs": [
    {
     "data": {
      "text/html": [
       "<div>\n",
       "<style scoped>\n",
       "    .dataframe tbody tr th:only-of-type {\n",
       "        vertical-align: middle;\n",
       "    }\n",
       "\n",
       "    .dataframe tbody tr th {\n",
       "        vertical-align: top;\n",
       "    }\n",
       "\n",
       "    .dataframe thead th {\n",
       "        text-align: right;\n",
       "    }\n",
       "</style>\n",
       "<table border=\"1\" class=\"dataframe\">\n",
       "  <thead>\n",
       "    <tr style=\"text-align: right;\">\n",
       "      <th></th>\n",
       "      <th>Team</th>\n",
       "      <th>Venue</th>\n",
       "      <th>wins</th>\n",
       "      <th>matches</th>\n",
       "      <th>venue_win_rate</th>\n",
       "    </tr>\n",
       "  </thead>\n",
       "  <tbody>\n",
       "    <tr>\n",
       "      <th>0</th>\n",
       "      <td>0</td>\n",
       "      <td>First</td>\n",
       "      <td>10</td>\n",
       "      <td>26</td>\n",
       "      <td>0.384615</td>\n",
       "    </tr>\n",
       "    <tr>\n",
       "      <th>1</th>\n",
       "      <td>0</td>\n",
       "      <td>Second</td>\n",
       "      <td>17</td>\n",
       "      <td>30</td>\n",
       "      <td>0.566667</td>\n",
       "    </tr>\n",
       "    <tr>\n",
       "      <th>2</th>\n",
       "      <td>1</td>\n",
       "      <td>First</td>\n",
       "      <td>207</td>\n",
       "      <td>322</td>\n",
       "      <td>0.642857</td>\n",
       "    </tr>\n",
       "    <tr>\n",
       "      <th>3</th>\n",
       "      <td>1</td>\n",
       "      <td>Second</td>\n",
       "      <td>172</td>\n",
       "      <td>268</td>\n",
       "      <td>0.641791</td>\n",
       "    </tr>\n",
       "    <tr>\n",
       "      <th>4</th>\n",
       "      <td>2</td>\n",
       "      <td>First</td>\n",
       "      <td>33</td>\n",
       "      <td>114</td>\n",
       "      <td>0.289474</td>\n",
       "    </tr>\n",
       "    <tr>\n",
       "      <th>5</th>\n",
       "      <td>2</td>\n",
       "      <td>Second</td>\n",
       "      <td>37</td>\n",
       "      <td>111</td>\n",
       "      <td>0.333333</td>\n",
       "    </tr>\n",
       "    <tr>\n",
       "      <th>6</th>\n",
       "      <td>3</td>\n",
       "      <td>First</td>\n",
       "      <td>2</td>\n",
       "      <td>24</td>\n",
       "      <td>0.083333</td>\n",
       "    </tr>\n",
       "    <tr>\n",
       "      <th>7</th>\n",
       "      <td>3</td>\n",
       "      <td>Second</td>\n",
       "      <td>6</td>\n",
       "      <td>25</td>\n",
       "      <td>0.240000</td>\n",
       "    </tr>\n",
       "    <tr>\n",
       "      <th>8</th>\n",
       "      <td>4</td>\n",
       "      <td>First</td>\n",
       "      <td>97</td>\n",
       "      <td>206</td>\n",
       "      <td>0.470874</td>\n",
       "    </tr>\n",
       "    <tr>\n",
       "      <th>9</th>\n",
       "      <td>4</td>\n",
       "      <td>Second</td>\n",
       "      <td>140</td>\n",
       "      <td>246</td>\n",
       "      <td>0.569106</td>\n",
       "    </tr>\n",
       "    <tr>\n",
       "      <th>10</th>\n",
       "      <td>5</td>\n",
       "      <td>First</td>\n",
       "      <td>135</td>\n",
       "      <td>275</td>\n",
       "      <td>0.490909</td>\n",
       "    </tr>\n",
       "    <tr>\n",
       "      <th>11</th>\n",
       "      <td>5</td>\n",
       "      <td>Second</td>\n",
       "      <td>183</td>\n",
       "      <td>327</td>\n",
       "      <td>0.559633</td>\n",
       "    </tr>\n",
       "    <tr>\n",
       "      <th>12</th>\n",
       "      <td>6</td>\n",
       "      <td>First</td>\n",
       "      <td>17</td>\n",
       "      <td>37</td>\n",
       "      <td>0.459459</td>\n",
       "    </tr>\n",
       "    <tr>\n",
       "      <th>13</th>\n",
       "      <td>6</td>\n",
       "      <td>Second</td>\n",
       "      <td>16</td>\n",
       "      <td>39</td>\n",
       "      <td>0.410256</td>\n",
       "    </tr>\n",
       "    <tr>\n",
       "      <th>14</th>\n",
       "      <td>7</td>\n",
       "      <td>First</td>\n",
       "      <td>11</td>\n",
       "      <td>56</td>\n",
       "      <td>0.196429</td>\n",
       "    </tr>\n",
       "    <tr>\n",
       "      <th>15</th>\n",
       "      <td>7</td>\n",
       "      <td>Second</td>\n",
       "      <td>13</td>\n",
       "      <td>42</td>\n",
       "      <td>0.309524</td>\n",
       "    </tr>\n",
       "    <tr>\n",
       "      <th>16</th>\n",
       "      <td>8</td>\n",
       "      <td>First</td>\n",
       "      <td>4</td>\n",
       "      <td>19</td>\n",
       "      <td>0.210526</td>\n",
       "    </tr>\n",
       "    <tr>\n",
       "      <th>17</th>\n",
       "      <td>8</td>\n",
       "      <td>Second</td>\n",
       "      <td>11</td>\n",
       "      <td>26</td>\n",
       "      <td>0.423077</td>\n",
       "    </tr>\n",
       "    <tr>\n",
       "      <th>18</th>\n",
       "      <td>9</td>\n",
       "      <td>First</td>\n",
       "      <td>111</td>\n",
       "      <td>253</td>\n",
       "      <td>0.438735</td>\n",
       "    </tr>\n",
       "    <tr>\n",
       "      <th>19</th>\n",
       "      <td>9</td>\n",
       "      <td>Second</td>\n",
       "      <td>112</td>\n",
       "      <td>223</td>\n",
       "      <td>0.502242</td>\n",
       "    </tr>\n",
       "    <tr>\n",
       "      <th>20</th>\n",
       "      <td>10</td>\n",
       "      <td>First</td>\n",
       "      <td>176</td>\n",
       "      <td>310</td>\n",
       "      <td>0.567742</td>\n",
       "    </tr>\n",
       "    <tr>\n",
       "      <th>21</th>\n",
       "      <td>10</td>\n",
       "      <td>Second</td>\n",
       "      <td>140</td>\n",
       "      <td>256</td>\n",
       "      <td>0.546875</td>\n",
       "    </tr>\n",
       "    <tr>\n",
       "      <th>22</th>\n",
       "      <td>11</td>\n",
       "      <td>First</td>\n",
       "      <td>8</td>\n",
       "      <td>28</td>\n",
       "      <td>0.285714</td>\n",
       "    </tr>\n",
       "    <tr>\n",
       "      <th>23</th>\n",
       "      <td>11</td>\n",
       "      <td>Second</td>\n",
       "      <td>10</td>\n",
       "      <td>24</td>\n",
       "      <td>0.416667</td>\n",
       "    </tr>\n",
       "    <tr>\n",
       "      <th>24</th>\n",
       "      <td>12</td>\n",
       "      <td>First</td>\n",
       "      <td>129</td>\n",
       "      <td>200</td>\n",
       "      <td>0.645000</td>\n",
       "    </tr>\n",
       "    <tr>\n",
       "      <th>25</th>\n",
       "      <td>12</td>\n",
       "      <td>Second</td>\n",
       "      <td>116</td>\n",
       "      <td>184</td>\n",
       "      <td>0.630435</td>\n",
       "    </tr>\n",
       "    <tr>\n",
       "      <th>26</th>\n",
       "      <td>13</td>\n",
       "      <td>First</td>\n",
       "      <td>123</td>\n",
       "      <td>260</td>\n",
       "      <td>0.473077</td>\n",
       "    </tr>\n",
       "    <tr>\n",
       "      <th>27</th>\n",
       "      <td>13</td>\n",
       "      <td>Second</td>\n",
       "      <td>123</td>\n",
       "      <td>257</td>\n",
       "      <td>0.478599</td>\n",
       "    </tr>\n",
       "    <tr>\n",
       "      <th>28</th>\n",
       "      <td>14</td>\n",
       "      <td>First</td>\n",
       "      <td>112</td>\n",
       "      <td>228</td>\n",
       "      <td>0.491228</td>\n",
       "    </tr>\n",
       "    <tr>\n",
       "      <th>29</th>\n",
       "      <td>14</td>\n",
       "      <td>Second</td>\n",
       "      <td>150</td>\n",
       "      <td>278</td>\n",
       "      <td>0.539568</td>\n",
       "    </tr>\n",
       "    <tr>\n",
       "      <th>30</th>\n",
       "      <td>15</td>\n",
       "      <td>First</td>\n",
       "      <td>40</td>\n",
       "      <td>150</td>\n",
       "      <td>0.266667</td>\n",
       "    </tr>\n",
       "    <tr>\n",
       "      <th>31</th>\n",
       "      <td>15</td>\n",
       "      <td>Second</td>\n",
       "      <td>47</td>\n",
       "      <td>172</td>\n",
       "      <td>0.273256</td>\n",
       "    </tr>\n",
       "  </tbody>\n",
       "</table>\n",
       "</div>"
      ],
      "text/plain": [
       "    Team   Venue  wins  matches  venue_win_rate\n",
       "0      0   First    10       26        0.384615\n",
       "1      0  Second    17       30        0.566667\n",
       "2      1   First   207      322        0.642857\n",
       "3      1  Second   172      268        0.641791\n",
       "4      2   First    33      114        0.289474\n",
       "5      2  Second    37      111        0.333333\n",
       "6      3   First     2       24        0.083333\n",
       "7      3  Second     6       25        0.240000\n",
       "8      4   First    97      206        0.470874\n",
       "9      4  Second   140      246        0.569106\n",
       "10     5   First   135      275        0.490909\n",
       "11     5  Second   183      327        0.559633\n",
       "12     6   First    17       37        0.459459\n",
       "13     6  Second    16       39        0.410256\n",
       "14     7   First    11       56        0.196429\n",
       "15     7  Second    13       42        0.309524\n",
       "16     8   First     4       19        0.210526\n",
       "17     8  Second    11       26        0.423077\n",
       "18     9   First   111      253        0.438735\n",
       "19     9  Second   112      223        0.502242\n",
       "20    10   First   176      310        0.567742\n",
       "21    10  Second   140      256        0.546875\n",
       "22    11   First     8       28        0.285714\n",
       "23    11  Second    10       24        0.416667\n",
       "24    12   First   129      200        0.645000\n",
       "25    12  Second   116      184        0.630435\n",
       "26    13   First   123      260        0.473077\n",
       "27    13  Second   123      257        0.478599\n",
       "28    14   First   112      228        0.491228\n",
       "29    14  Second   150      278        0.539568\n",
       "30    15   First    40      150        0.266667\n",
       "31    15  Second    47      172        0.273256"
      ]
     },
     "execution_count": 123,
     "metadata": {},
     "output_type": "execute_result"
    }
   ],
   "source": [
    "train_df['Team1_Venue'] = train_df['Team1_Innings']\n",
    "train_df['Team2_Venue'] = train_df['Team2_Innings']\n",
    "team1_venue_wins = train_df.groupby(['Team1','Team1_Venue']).agg({'Team1_win':['sum','count']}).reset_index()\n",
    "team1_venue_wins.columns = ['Team','Venue','wins','matches']\n",
    "team2_venue_wins = train_df.groupby(['Team2','Team2_Venue']).agg({'Team2_win':['sum','count']}).reset_index()\n",
    "team2_venue_wins.columns = ['Team','Venue','wins','matches']\n",
    "team_venue_wins = pd.concat([team1_venue_wins, team2_venue_wins], axis=0)\n",
    "team_venue_wins = team_venue_wins.groupby(['Team','Venue']).agg({'wins':['sum'], 'matches':['sum']}).reset_index()\n",
    "team_venue_wins.columns = ['Team','Venue','wins','matches']\n",
    "team_venue_wins['venue_win_rate'] = team_venue_wins['wins']/team_venue_wins['matches']\n",
    "team_venue_wins"
   ]
  },
  {
   "cell_type": "code",
   "execution_count": 124,
   "metadata": {},
   "outputs": [
    {
     "data": {
      "text/html": [
       "<div>\n",
       "<style scoped>\n",
       "    .dataframe tbody tr th:only-of-type {\n",
       "        vertical-align: middle;\n",
       "    }\n",
       "\n",
       "    .dataframe tbody tr th {\n",
       "        vertical-align: top;\n",
       "    }\n",
       "\n",
       "    .dataframe thead th {\n",
       "        text-align: right;\n",
       "    }\n",
       "</style>\n",
       "<table border=\"1\" class=\"dataframe\">\n",
       "  <thead>\n",
       "    <tr style=\"text-align: right;\">\n",
       "      <th></th>\n",
       "      <th>Team1</th>\n",
       "      <th>Team2</th>\n",
       "      <th>Team1_Venue</th>\n",
       "      <th>Team2_Venue</th>\n",
       "      <th>Team1_win</th>\n",
       "      <th>Team_x</th>\n",
       "      <th>Venue_x</th>\n",
       "      <th>wins_x</th>\n",
       "      <th>matches_x</th>\n",
       "      <th>venue_win_rate_x</th>\n",
       "      <th>Team_y</th>\n",
       "      <th>Venue_y</th>\n",
       "      <th>wins_y</th>\n",
       "      <th>matches_y</th>\n",
       "      <th>venue_win_rate_y</th>\n",
       "      <th>venue_win_rate_diff</th>\n",
       "      <th>venue_match_diff</th>\n",
       "    </tr>\n",
       "  </thead>\n",
       "  <tbody>\n",
       "    <tr>\n",
       "      <th>2503</th>\n",
       "      <td>7</td>\n",
       "      <td>3</td>\n",
       "      <td>Second</td>\n",
       "      <td>First</td>\n",
       "      <td>1</td>\n",
       "      <td>7</td>\n",
       "      <td>Second</td>\n",
       "      <td>13</td>\n",
       "      <td>42</td>\n",
       "      <td>0.309524</td>\n",
       "      <td>3</td>\n",
       "      <td>First</td>\n",
       "      <td>2</td>\n",
       "      <td>24</td>\n",
       "      <td>0.083333</td>\n",
       "      <td>0.226190</td>\n",
       "      <td>18</td>\n",
       "    </tr>\n",
       "    <tr>\n",
       "      <th>2504</th>\n",
       "      <td>11</td>\n",
       "      <td>3</td>\n",
       "      <td>Second</td>\n",
       "      <td>First</td>\n",
       "      <td>1</td>\n",
       "      <td>11</td>\n",
       "      <td>Second</td>\n",
       "      <td>10</td>\n",
       "      <td>24</td>\n",
       "      <td>0.416667</td>\n",
       "      <td>3</td>\n",
       "      <td>First</td>\n",
       "      <td>2</td>\n",
       "      <td>24</td>\n",
       "      <td>0.083333</td>\n",
       "      <td>0.333333</td>\n",
       "      <td>0</td>\n",
       "    </tr>\n",
       "    <tr>\n",
       "      <th>2505</th>\n",
       "      <td>11</td>\n",
       "      <td>3</td>\n",
       "      <td>Second</td>\n",
       "      <td>First</td>\n",
       "      <td>1</td>\n",
       "      <td>11</td>\n",
       "      <td>Second</td>\n",
       "      <td>10</td>\n",
       "      <td>24</td>\n",
       "      <td>0.416667</td>\n",
       "      <td>3</td>\n",
       "      <td>First</td>\n",
       "      <td>2</td>\n",
       "      <td>24</td>\n",
       "      <td>0.083333</td>\n",
       "      <td>0.333333</td>\n",
       "      <td>0</td>\n",
       "    </tr>\n",
       "    <tr>\n",
       "      <th>2506</th>\n",
       "      <td>8</td>\n",
       "      <td>3</td>\n",
       "      <td>Second</td>\n",
       "      <td>First</td>\n",
       "      <td>1</td>\n",
       "      <td>8</td>\n",
       "      <td>Second</td>\n",
       "      <td>11</td>\n",
       "      <td>26</td>\n",
       "      <td>0.423077</td>\n",
       "      <td>3</td>\n",
       "      <td>First</td>\n",
       "      <td>2</td>\n",
       "      <td>24</td>\n",
       "      <td>0.083333</td>\n",
       "      <td>0.339744</td>\n",
       "      <td>2</td>\n",
       "    </tr>\n",
       "    <tr>\n",
       "      <th>2507</th>\n",
       "      <td>0</td>\n",
       "      <td>3</td>\n",
       "      <td>Second</td>\n",
       "      <td>First</td>\n",
       "      <td>1</td>\n",
       "      <td>0</td>\n",
       "      <td>Second</td>\n",
       "      <td>17</td>\n",
       "      <td>30</td>\n",
       "      <td>0.566667</td>\n",
       "      <td>3</td>\n",
       "      <td>First</td>\n",
       "      <td>2</td>\n",
       "      <td>24</td>\n",
       "      <td>0.083333</td>\n",
       "      <td>0.483333</td>\n",
       "      <td>6</td>\n",
       "    </tr>\n",
       "  </tbody>\n",
       "</table>\n",
       "</div>"
      ],
      "text/plain": [
       "      Team1  Team2 Team1_Venue Team2_Venue  Team1_win  Team_x Venue_x  wins_x  \\\n",
       "2503      7      3      Second       First          1       7  Second      13   \n",
       "2504     11      3      Second       First          1      11  Second      10   \n",
       "2505     11      3      Second       First          1      11  Second      10   \n",
       "2506      8      3      Second       First          1       8  Second      11   \n",
       "2507      0      3      Second       First          1       0  Second      17   \n",
       "\n",
       "      matches_x  venue_win_rate_x  Team_y Venue_y  wins_y  matches_y  \\\n",
       "2503         42          0.309524       3   First       2         24   \n",
       "2504         24          0.416667       3   First       2         24   \n",
       "2505         24          0.416667       3   First       2         24   \n",
       "2506         26          0.423077       3   First       2         24   \n",
       "2507         30          0.566667       3   First       2         24   \n",
       "\n",
       "      venue_win_rate_y  venue_win_rate_diff  venue_match_diff  \n",
       "2503          0.083333             0.226190                18  \n",
       "2504          0.083333             0.333333                 0  \n",
       "2505          0.083333             0.333333                 0  \n",
       "2506          0.083333             0.339744                 2  \n",
       "2507          0.083333             0.483333                 6  "
      ]
     },
     "execution_count": 124,
     "metadata": {},
     "output_type": "execute_result"
    }
   ],
   "source": [
    "venue_impact = train_df[['Team1','Team2', 'Team1_Venue', 'Team2_Venue','Team1_win']]\\\n",
    ".merge(team_venue_wins, left_on=['Team1','Team1_Venue'], right_on=['Team','Venue'])\n",
    "venue_impact = venue_impact.merge(team_venue_wins, left_on=['Team2','Team2_Venue'], right_on=['Team','Venue'])\n",
    "venue_impact['venue_win_rate_diff'] = venue_impact['venue_win_rate_x'] - venue_impact['venue_win_rate_y']\n",
    "venue_impact['venue_match_diff'] = venue_impact['matches_x'] - venue_impact['matches_y']\n",
    "assert venue_impact.shape[0] == train_df.shape[0]\n",
    "venue_impact.tail()"
   ]
  },
  {
   "cell_type": "code",
   "execution_count": 125,
   "metadata": {},
   "outputs": [
    {
     "data": {
      "text/plain": [
       "<matplotlib.axes._subplots.AxesSubplot at 0x1a2c1229b0>"
      ]
     },
     "execution_count": 125,
     "metadata": {},
     "output_type": "execute_result"
    },
    {
     "data": {
      "image/png": "[encoded data removed]",
      "text/plain": [
       "<Figure size 432x288 with 1 Axes>"
      ]
     },
     "metadata": {
      "needs_background": "light"
     },
     "output_type": "display_data"
    }
   ],
   "source": [
    "sns.boxplot(data = venue_impact, x = 'Team1_win', y = 'venue_win_rate_diff')"
   ]
  },
  {
   "cell_type": "code",
   "execution_count": 126,
   "metadata": {},
   "outputs": [
    {
     "data": {
      "text/plain": [
       "<matplotlib.axes._subplots.AxesSubplot at 0x1a2c212748>"
      ]
     },
     "execution_count": 126,
     "metadata": {},
     "output_type": "execute_result"
    },
    {
     "data": {
      "image/png": "[encoded data removed]",
      "text/plain": [
       "<Figure size 432x288 with 1 Axes>"
      ]
     },
     "metadata": {
      "needs_background": "light"
     },
     "output_type": "display_data"
    }
   ],
   "source": [
    "sns.boxplot(data = venue_impact, x = 'Team1_win', y = 'venue_match_diff')"
   ]
  },
  {
   "cell_type": "code",
   "execution_count": 76,
   "metadata": {},
   "outputs": [
    {
     "data": {
      "text/plain": [
       "(1, 1)"
      ]
     },
     "execution_count": 76,
     "metadata": {},
     "output_type": "execute_result"
    }
   ],
   "source": [
    "stadiums = train_df[['Stadium', 'HostCountry']].drop_duplicates()\n",
    "stadium_dist = stadiums.groupby(['Stadium'])['HostCountry'].nunique()\n",
    "stadium_dist.min(), stadium_dist.max()"
   ]
  },
  {
   "cell_type": "code",
   "execution_count": 80,
   "metadata": {},
   "outputs": [
    {
     "data": {
      "text/plain": [
       "array([  0,   1,   2,   3,   4,   5,   6,   7,   8,   9,  10,  11,  12,\n",
       "        13,  14,  16,  17,  18,  19,  20,  21,  22,  23,  24,  25,  26,\n",
       "        27,  28,  29,  30,  31,  32,  33,  34,  35,  36,  37,  38,  39,\n",
       "        40,  41,  42,  43,  44,  45,  46,  47,  48,  49,  50,  51,  52,\n",
       "        53,  54,  55,  56,  57,  58,  59,  60,  61,  62,  63,  64,  65,\n",
       "        66,  67,  68,  69,  70,  71,  72,  73,  74,  75,  76,  77,  78,\n",
       "        79,  80,  81,  82,  83,  84,  85,  86,  87,  88,  89,  90,  91,\n",
       "        92,  93,  94,  95,  96,  97,  98,  99, 100, 101, 102, 103, 104,\n",
       "       105, 106, 108, 109, 110, 111, 112, 113, 114, 115, 116, 117, 118,\n",
       "       119, 120, 121, 122, 123, 124, 125, 127, 129, 130, 131, 132, 133,\n",
       "       134, 135, 136, 137, 138, 139, 140, 141, 142, 144, 145, 146, 147,\n",
       "       148, 149, 150, 151])"
      ]
     },
     "execution_count": 80,
     "metadata": {},
     "output_type": "execute_result"
    }
   ],
   "source": [
    "stadiums.sort_values(['Stadium'])['Stadium'].unique()"
   ]
  },
  {
   "cell_type": "code",
   "execution_count": 87,
   "metadata": {},
   "outputs": [
    {
     "data": {
      "text/html": [
       "<div>\n",
       "<style scoped>\n",
       "    .dataframe tbody tr th:only-of-type {\n",
       "        vertical-align: middle;\n",
       "    }\n",
       "\n",
       "    .dataframe tbody tr th {\n",
       "        vertical-align: top;\n",
       "    }\n",
       "\n",
       "    .dataframe thead th {\n",
       "        text-align: right;\n",
       "    }\n",
       "</style>\n",
       "<table border=\"1\" class=\"dataframe\">\n",
       "  <thead>\n",
       "    <tr style=\"text-align: right;\">\n",
       "      <th></th>\n",
       "      <th>Team</th>\n",
       "      <th>Stadium</th>\n",
       "      <th>stadium_wins</th>\n",
       "      <th>stadium_matches</th>\n",
       "      <th>stadium_win_rate</th>\n",
       "    </tr>\n",
       "  </thead>\n",
       "  <tbody>\n",
       "    <tr>\n",
       "      <th>0</th>\n",
       "      <td>0</td>\n",
       "      <td>7</td>\n",
       "      <td>2</td>\n",
       "      <td>2</td>\n",
       "      <td>1.000000</td>\n",
       "    </tr>\n",
       "    <tr>\n",
       "      <th>1</th>\n",
       "      <td>0</td>\n",
       "      <td>9</td>\n",
       "      <td>1</td>\n",
       "      <td>2</td>\n",
       "      <td>0.500000</td>\n",
       "    </tr>\n",
       "    <tr>\n",
       "      <th>2</th>\n",
       "      <td>0</td>\n",
       "      <td>12</td>\n",
       "      <td>1</td>\n",
       "      <td>3</td>\n",
       "      <td>0.333333</td>\n",
       "    </tr>\n",
       "    <tr>\n",
       "      <th>3</th>\n",
       "      <td>0</td>\n",
       "      <td>22</td>\n",
       "      <td>3</td>\n",
       "      <td>7</td>\n",
       "      <td>0.428571</td>\n",
       "    </tr>\n",
       "    <tr>\n",
       "      <th>4</th>\n",
       "      <td>0</td>\n",
       "      <td>24</td>\n",
       "      <td>0</td>\n",
       "      <td>1</td>\n",
       "      <td>0.000000</td>\n",
       "    </tr>\n",
       "  </tbody>\n",
       "</table>\n",
       "</div>"
      ],
      "text/plain": [
       "   Team  Stadium  stadium_wins  stadium_matches  stadium_win_rate\n",
       "0     0        7             2                2          1.000000\n",
       "1     0        9             1                2          0.500000\n",
       "2     0       12             1                3          0.333333\n",
       "3     0       22             3                7          0.428571\n",
       "4     0       24             0                1          0.000000"
      ]
     },
     "execution_count": 87,
     "metadata": {},
     "output_type": "execute_result"
    }
   ],
   "source": [
    "team1_stadium_wins = train_df.groupby(['Team1','Stadium']).agg({'Team1_win':['sum','count']}).reset_index()\n",
    "team1_stadium_wins.columns = ['Team','Stadium','stadium_wins','stadium_matches']\n",
    "team2_stadium_wins = train_df.groupby(['Team2','Stadium']).agg({'Team2_win':['sum','count']}).reset_index()\n",
    "team2_stadium_wins.columns = ['Team','Stadium','stadium_wins','stadium_matches']\n",
    "team_stadium_wins = pd.concat([team1_stadium_wins, team2_stadium_wins], axis=0)\n",
    "team_stadium_wins = team_stadium_wins.groupby(['Team','Stadium']).agg({'stadium_wins':['sum'], \n",
    "                                                                       'stadium_matches':['sum']}).reset_index()\n",
    "team_stadium_wins.columns = ['Team','Stadium','stadium_wins','stadium_matches']\n",
    "team_stadium_wins['stadium_win_rate'] = team_stadium_wins['stadium_wins']/team_stadium_wins['stadium_matches']\n",
    "team_stadium_wins.head()"
   ]
  },
  {
   "cell_type": "code",
   "execution_count": 91,
   "metadata": {},
   "outputs": [
    {
     "data": {
      "text/html": [
       "<div>\n",
       "<style scoped>\n",
       "    .dataframe tbody tr th:only-of-type {\n",
       "        vertical-align: middle;\n",
       "    }\n",
       "\n",
       "    .dataframe tbody tr th {\n",
       "        vertical-align: top;\n",
       "    }\n",
       "\n",
       "    .dataframe thead th {\n",
       "        text-align: right;\n",
       "    }\n",
       "</style>\n",
       "<table border=\"1\" class=\"dataframe\">\n",
       "  <thead>\n",
       "    <tr style=\"text-align: right;\">\n",
       "      <th></th>\n",
       "      <th>Team1</th>\n",
       "      <th>Team2</th>\n",
       "      <th>Stadium</th>\n",
       "      <th>Team1_win</th>\n",
       "      <th>Team_x</th>\n",
       "      <th>stadium_wins_x</th>\n",
       "      <th>stadium_matches_x</th>\n",
       "      <th>stadium_win_rate_x</th>\n",
       "      <th>Team_y</th>\n",
       "      <th>stadium_wins_y</th>\n",
       "      <th>stadium_matches_y</th>\n",
       "      <th>stadium_win_rate_y</th>\n",
       "      <th>stadium_win_rate_diff</th>\n",
       "      <th>stadium_match_diff</th>\n",
       "    </tr>\n",
       "  </thead>\n",
       "  <tbody>\n",
       "    <tr>\n",
       "      <th>2503</th>\n",
       "      <td>4</td>\n",
       "      <td>13</td>\n",
       "      <td>10</td>\n",
       "      <td>1</td>\n",
       "      <td>4</td>\n",
       "      <td>1</td>\n",
       "      <td>1</td>\n",
       "      <td>1.0</td>\n",
       "      <td>13</td>\n",
       "      <td>0</td>\n",
       "      <td>1</td>\n",
       "      <td>0.0</td>\n",
       "      <td>1.0</td>\n",
       "      <td>0</td>\n",
       "    </tr>\n",
       "    <tr>\n",
       "      <th>2504</th>\n",
       "      <td>1</td>\n",
       "      <td>5</td>\n",
       "      <td>31</td>\n",
       "      <td>0</td>\n",
       "      <td>1</td>\n",
       "      <td>0</td>\n",
       "      <td>1</td>\n",
       "      <td>0.0</td>\n",
       "      <td>5</td>\n",
       "      <td>1</td>\n",
       "      <td>1</td>\n",
       "      <td>1.0</td>\n",
       "      <td>-1.0</td>\n",
       "      <td>0</td>\n",
       "    </tr>\n",
       "    <tr>\n",
       "      <th>2505</th>\n",
       "      <td>10</td>\n",
       "      <td>13</td>\n",
       "      <td>92</td>\n",
       "      <td>1</td>\n",
       "      <td>10</td>\n",
       "      <td>1</td>\n",
       "      <td>1</td>\n",
       "      <td>1.0</td>\n",
       "      <td>13</td>\n",
       "      <td>0</td>\n",
       "      <td>1</td>\n",
       "      <td>0.0</td>\n",
       "      <td>1.0</td>\n",
       "      <td>0</td>\n",
       "    </tr>\n",
       "    <tr>\n",
       "      <th>2506</th>\n",
       "      <td>6</td>\n",
       "      <td>11</td>\n",
       "      <td>45</td>\n",
       "      <td>1</td>\n",
       "      <td>6</td>\n",
       "      <td>1</td>\n",
       "      <td>2</td>\n",
       "      <td>0.5</td>\n",
       "      <td>11</td>\n",
       "      <td>0</td>\n",
       "      <td>1</td>\n",
       "      <td>0.0</td>\n",
       "      <td>0.5</td>\n",
       "      <td>1</td>\n",
       "    </tr>\n",
       "    <tr>\n",
       "      <th>2507</th>\n",
       "      <td>4</td>\n",
       "      <td>7</td>\n",
       "      <td>58</td>\n",
       "      <td>1</td>\n",
       "      <td>4</td>\n",
       "      <td>2</td>\n",
       "      <td>4</td>\n",
       "      <td>0.5</td>\n",
       "      <td>7</td>\n",
       "      <td>0</td>\n",
       "      <td>2</td>\n",
       "      <td>0.0</td>\n",
       "      <td>0.5</td>\n",
       "      <td>2</td>\n",
       "    </tr>\n",
       "  </tbody>\n",
       "</table>\n",
       "</div>"
      ],
      "text/plain": [
       "      Team1  Team2  Stadium  Team1_win  Team_x  stadium_wins_x  \\\n",
       "2503      4     13       10          1       4               1   \n",
       "2504      1      5       31          0       1               0   \n",
       "2505     10     13       92          1      10               1   \n",
       "2506      6     11       45          1       6               1   \n",
       "2507      4      7       58          1       4               2   \n",
       "\n",
       "      stadium_matches_x  stadium_win_rate_x  Team_y  stadium_wins_y  \\\n",
       "2503                  1                 1.0      13               0   \n",
       "2504                  1                 0.0       5               1   \n",
       "2505                  1                 1.0      13               0   \n",
       "2506                  2                 0.5      11               0   \n",
       "2507                  4                 0.5       7               0   \n",
       "\n",
       "      stadium_matches_y  stadium_win_rate_y  stadium_win_rate_diff  \\\n",
       "2503                  1                 0.0                    1.0   \n",
       "2504                  1                 1.0                   -1.0   \n",
       "2505                  1                 0.0                    1.0   \n",
       "2506                  1                 0.0                    0.5   \n",
       "2507                  2                 0.0                    0.5   \n",
       "\n",
       "      stadium_match_diff  \n",
       "2503                   0  \n",
       "2504                   0  \n",
       "2505                   0  \n",
       "2506                   1  \n",
       "2507                   2  "
      ]
     },
     "execution_count": 91,
     "metadata": {},
     "output_type": "execute_result"
    }
   ],
   "source": [
    "stadium_impact = train_df[['Team1','Team2', 'Stadium', 'Team1_win']]\\\n",
    ".merge(team_stadium_wins, left_on=['Team1','Stadium'], right_on=['Team','Stadium'])\n",
    "stadium_impact = stadium_impact.merge(team_stadium_wins, left_on=['Team2','Stadium'], right_on=['Team','Stadium'])\n",
    "stadium_impact['stadium_win_rate_diff'] = stadium_impact['stadium_win_rate_x'] - stadium_impact['stadium_win_rate_y']\n",
    "stadium_impact['stadium_match_diff'] = stadium_impact['stadium_matches_x'] - stadium_impact['stadium_matches_y']\n",
    "assert stadium_impact.shape[0] == train_df.shape[0]\n",
    "stadium_impact.tail()"
   ]
  },
  {
   "cell_type": "code",
   "execution_count": 92,
   "metadata": {},
   "outputs": [
    {
     "data": {
      "text/plain": [
       "<matplotlib.axes._subplots.AxesSubplot at 0x1a2b4e4978>"
      ]
     },
     "execution_count": 92,
     "metadata": {},
     "output_type": "execute_result"
    },
    {
     "data": {
      "image/png": "[encoded data removed]",
      "text/plain": [
       "<Figure size 432x288 with 1 Axes>"
      ]
     },
     "metadata": {
      "needs_background": "light"
     },
     "output_type": "display_data"
    }
   ],
   "source": [
    "sns.boxplot(data = stadium_impact, x = 'Team1_win', y = 'stadium_win_rate_diff')"
   ]
  },
  {
   "cell_type": "code",
   "execution_count": 93,
   "metadata": {},
   "outputs": [
    {
     "data": {
      "text/plain": [
       "<matplotlib.axes._subplots.AxesSubplot at 0x1a2b63a160>"
      ]
     },
     "execution_count": 93,
     "metadata": {},
     "output_type": "execute_result"
    },
    {
     "data": {
      "image/png": "[encoded data removed]",
      "text/plain": [
       "<Figure size 432x288 with 1 Axes>"
      ]
     },
     "metadata": {
      "needs_background": "light"
     },
     "output_type": "display_data"
    }
   ],
   "source": [
    "sns.boxplot(data = stadium_impact, x = 'Team1_win', y = 'stadium_match_diff')"
   ]
  },
  {
   "cell_type": "code",
   "execution_count": 95,
   "metadata": {},
   "outputs": [
    {
     "data": {
      "text/plain": [
       "Team\n",
       "0      20\n",
       "1      86\n",
       "2      62\n",
       "3      28\n",
       "4      83\n",
       "5     100\n",
       "6      26\n",
       "7      44\n",
       "8      26\n",
       "9      98\n",
       "10     91\n",
       "11     21\n",
       "12     75\n",
       "13     96\n",
       "14     93\n",
       "15     79\n",
       "Name: Stadium, dtype: int64"
      ]
     },
     "execution_count": 95,
     "metadata": {},
     "output_type": "execute_result"
    }
   ],
   "source": [
    "team_stadium_wins.groupby(['Team'])['Stadium'].count()"
   ]
  },
  {
   "cell_type": "code",
   "execution_count": 96,
   "metadata": {},
   "outputs": [
    {
     "name": "stdout",
     "output_type": "stream",
     "text": [
      "<class 'pandas.core.frame.DataFrame'>\n",
      "RangeIndex: 1075 entries, 0 to 1074\n",
      "Data columns (total 9 columns):\n",
      " #   Column         Non-Null Count  Dtype \n",
      "---  ------         --------------  ----- \n",
      " 0   Team1          1075 non-null   int64 \n",
      " 1   Team2          1075 non-null   int64 \n",
      " 2   Stadium        1075 non-null   int64 \n",
      " 3   HostCountry    1075 non-null   int64 \n",
      " 4   Team1_Venue    1075 non-null   object\n",
      " 5   Team2_Venue    1075 non-null   object\n",
      " 6   Team1_Innings  1075 non-null   object\n",
      " 7   Team2_Innings  1075 non-null   object\n",
      " 8   MonthOfMatch   1075 non-null   object\n",
      "dtypes: int64(4), object(5)\n",
      "memory usage: 75.7+ KB\n"
     ]
    }
   ],
   "source": [
    "test_df = pd.read_csv('./Test.csv')\n",
    "test_df.info()"
   ]
  },
  {
   "cell_type": "code",
   "execution_count": 105,
   "metadata": {},
   "outputs": [
    {
     "name": "stdout",
     "output_type": "stream",
     "text": [
      "<class 'pandas.core.frame.DataFrame'>\n",
      "Int64Index: 193 entries, 0 to 1061\n",
      "Data columns (total 2 columns):\n",
      " #   Column   Non-Null Count  Dtype\n",
      "---  ------   --------------  -----\n",
      " 0   Team     193 non-null    int64\n",
      " 1   Stadium  193 non-null    int64\n",
      "dtypes: int64(2)\n",
      "memory usage: 4.5 KB\n"
     ]
    }
   ],
   "source": [
    "test_df['Stadium'] = test_df['HostCountry']\n",
    "test_stadiums = test_df[['Team1','Stadium']].drop_duplicates()\n",
    "test_stadiums.columns = ['Team2','Stadium']\n",
    "test_stadiums = pd.concat([test_stadiums, test_df[['Team2','Stadium']].drop_duplicates()], axis = 0)\n",
    "test_stadiums = test_stadiums.drop_duplicates()\n",
    "test_stadiums.columns = ['Team','Stadium']\n",
    "test_stadiums.info()"
   ]
  },
  {
   "cell_type": "code",
   "execution_count": 106,
   "metadata": {},
   "outputs": [
    {
     "data": {
      "text/plain": [
       "Team\n",
       "0      9\n",
       "1     15\n",
       "2     13\n",
       "3      8\n",
       "4     14\n",
       "5     15\n",
       "6     11\n",
       "7     11\n",
       "8      9\n",
       "9     12\n",
       "10    15\n",
       "11    10\n",
       "12    13\n",
       "13    13\n",
       "14    13\n",
       "15    12\n",
       "Name: Stadium, dtype: int64"
      ]
     },
     "execution_count": 106,
     "metadata": {},
     "output_type": "execute_result"
    }
   ],
   "source": [
    "test_stadiums.groupby('Team')['Stadium'].count()"
   ]
  },
  {
   "cell_type": "code",
   "execution_count": 107,
   "metadata": {},
   "outputs": [
    {
     "name": "stdout",
     "output_type": "stream",
     "text": [
      "<class 'pandas.core.frame.DataFrame'>\n",
      "Int64Index: 193 entries, 0 to 192\n",
      "Data columns (total 6 columns):\n",
      " #   Column            Non-Null Count  Dtype  \n",
      "---  ------            --------------  -----  \n",
      " 0   Team              193 non-null    int64  \n",
      " 1   Stadium           193 non-null    int64  \n",
      " 2   stadium_wins      80 non-null     float64\n",
      " 3   stadium_matches   80 non-null     float64\n",
      " 4   stadium_win_rate  80 non-null     float64\n",
      " 5   missing           193 non-null    int64  \n",
      "dtypes: float64(3), int64(3)\n",
      "memory usage: 10.6 KB\n"
     ]
    }
   ],
   "source": [
    "missing_stadiums = test_stadiums.merge(team_stadium_wins, how='left', on=['Team','Stadium'])\n",
    "missing_stadiums['missing'] = np.where(missing_stadiums['stadium_win_rate'].isna(),1,0)\n",
    "missing_stadiums.info()"
   ]
  },
  {
   "cell_type": "code",
   "execution_count": 108,
   "metadata": {},
   "outputs": [
    {
     "data": {
      "text/html": [
       "<div>\n",
       "<style scoped>\n",
       "    .dataframe tbody tr th:only-of-type {\n",
       "        vertical-align: middle;\n",
       "    }\n",
       "\n",
       "    .dataframe tbody tr th {\n",
       "        vertical-align: top;\n",
       "    }\n",
       "\n",
       "    .dataframe thead tr th {\n",
       "        text-align: left;\n",
       "    }\n",
       "\n",
       "    .dataframe thead tr:last-of-type th {\n",
       "        text-align: right;\n",
       "    }\n",
       "</style>\n",
       "<table border=\"1\" class=\"dataframe\">\n",
       "  <thead>\n",
       "    <tr>\n",
       "      <th></th>\n",
       "      <th colspan=\"2\" halign=\"left\">missing</th>\n",
       "    </tr>\n",
       "    <tr>\n",
       "      <th></th>\n",
       "      <th>sum</th>\n",
       "      <th>count</th>\n",
       "    </tr>\n",
       "    <tr>\n",
       "      <th>Team</th>\n",
       "      <th></th>\n",
       "      <th></th>\n",
       "    </tr>\n",
       "  </thead>\n",
       "  <tbody>\n",
       "    <tr>\n",
       "      <th>0</th>\n",
       "      <td>8</td>\n",
       "      <td>9</td>\n",
       "    </tr>\n",
       "    <tr>\n",
       "      <th>1</th>\n",
       "      <td>8</td>\n",
       "      <td>15</td>\n",
       "    </tr>\n",
       "    <tr>\n",
       "      <th>2</th>\n",
       "      <td>9</td>\n",
       "      <td>13</td>\n",
       "    </tr>\n",
       "    <tr>\n",
       "      <th>3</th>\n",
       "      <td>6</td>\n",
       "      <td>8</td>\n",
       "    </tr>\n",
       "    <tr>\n",
       "      <th>4</th>\n",
       "      <td>5</td>\n",
       "      <td>14</td>\n",
       "    </tr>\n",
       "    <tr>\n",
       "      <th>5</th>\n",
       "      <td>5</td>\n",
       "      <td>15</td>\n",
       "    </tr>\n",
       "    <tr>\n",
       "      <th>6</th>\n",
       "      <td>8</td>\n",
       "      <td>11</td>\n",
       "    </tr>\n",
       "    <tr>\n",
       "      <th>7</th>\n",
       "      <td>8</td>\n",
       "      <td>11</td>\n",
       "    </tr>\n",
       "    <tr>\n",
       "      <th>8</th>\n",
       "      <td>6</td>\n",
       "      <td>9</td>\n",
       "    </tr>\n",
       "    <tr>\n",
       "      <th>9</th>\n",
       "      <td>5</td>\n",
       "      <td>12</td>\n",
       "    </tr>\n",
       "    <tr>\n",
       "      <th>10</th>\n",
       "      <td>9</td>\n",
       "      <td>15</td>\n",
       "    </tr>\n",
       "    <tr>\n",
       "      <th>11</th>\n",
       "      <td>5</td>\n",
       "      <td>10</td>\n",
       "    </tr>\n",
       "    <tr>\n",
       "      <th>12</th>\n",
       "      <td>9</td>\n",
       "      <td>13</td>\n",
       "    </tr>\n",
       "    <tr>\n",
       "      <th>13</th>\n",
       "      <td>5</td>\n",
       "      <td>13</td>\n",
       "    </tr>\n",
       "    <tr>\n",
       "      <th>14</th>\n",
       "      <td>8</td>\n",
       "      <td>13</td>\n",
       "    </tr>\n",
       "    <tr>\n",
       "      <th>15</th>\n",
       "      <td>9</td>\n",
       "      <td>12</td>\n",
       "    </tr>\n",
       "  </tbody>\n",
       "</table>\n",
       "</div>"
      ],
      "text/plain": [
       "     missing      \n",
       "         sum count\n",
       "Team              \n",
       "0          8     9\n",
       "1          8    15\n",
       "2          9    13\n",
       "3          6     8\n",
       "4          5    14\n",
       "5          5    15\n",
       "6          8    11\n",
       "7          8    11\n",
       "8          6     9\n",
       "9          5    12\n",
       "10         9    15\n",
       "11         5    10\n",
       "12         9    13\n",
       "13         5    13\n",
       "14         8    13\n",
       "15         9    12"
      ]
     },
     "execution_count": 108,
     "metadata": {},
     "output_type": "execute_result"
    }
   ],
   "source": [
    "missing_stadiums.groupby(['Team']).agg({'missing':['sum','count']})"
   ]
  },
  {
   "cell_type": "code",
   "execution_count": null,
   "metadata": {},
   "outputs": [],
   "source": []
  }
 ],
 "metadata": {
  "kernelspec": {
   "display_name": "Python 3",
   "language": "python",
   "name": "python3"
  },
  "language_info": {
   "codemirror_mode": {
    "name": "ipython",
    "version": 3
   },
   "file_extension": ".py",
   "mimetype": "text/x-python",
   "name": "python",
   "nbconvert_exporter": "python",
   "pygments_lexer": "ipython3",
   "version": "3.6.10"
  }
 },
 "nbformat": 4,
 "nbformat_minor": 4
}
